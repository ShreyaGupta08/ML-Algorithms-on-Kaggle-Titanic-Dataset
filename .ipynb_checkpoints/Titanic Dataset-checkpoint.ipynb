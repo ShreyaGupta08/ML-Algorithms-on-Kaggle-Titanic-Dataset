{
 "cells": [
  {
   "cell_type": "code",
   "execution_count": 11,
   "metadata": {},
   "outputs": [
    {
     "name": "stdout",
     "output_type": "stream",
     "text": [
      "mean:\n",
      "PassengerId    446.000000\n",
      "Survived         0.383838\n",
      "Pclass           2.308642\n",
      "Age             29.699118\n",
      "SibSp            0.523008\n",
      "Parch            0.381594\n",
      "Fare            32.204208\n",
      "dtype: float64\n",
      "\n",
      "median:\n",
      "PassengerId    446.0000\n",
      "Survived         0.0000\n",
      "Pclass           3.0000\n",
      "Age             28.0000\n",
      "SibSp            0.0000\n",
      "Parch            0.0000\n",
      "Fare            14.4542\n",
      "dtype: float64\n",
      "\n",
      "Std deviation:\n",
      "PassengerId    257.353842\n",
      "Survived         0.486592\n",
      "Pclass           0.836071\n",
      "Age             14.526497\n",
      "SibSp            1.102743\n",
      "Parch            0.806057\n",
      "Fare            49.693429\n",
      "dtype: float64\n",
      "   PassengerId  Survived  Pclass                     Name   Sex   Age  SibSp  \\\n",
      "0            1         0       3  Braund, Mr. Owen Harris  male  22.0      1   \n",
      "\n",
      "   Parch     Ticket  Fare Cabin Embarked  \n",
      "0      0  A/5 21171  7.25   NaN        S  \n",
      "int64\n",
      "int64\n",
      "int64\n",
      "object\n",
      "object\n",
      "float64\n",
      "int64\n",
      "int64\n",
      "object\n",
      "float64\n",
      "object\n",
      "object\n"
     ]
    }
   ],
   "source": [
    "import numpy as np\n",
    "import pandas as pd\n",
    "\n",
    "df = pd.read_csv('train.csv')\n",
    "print(\"mean:\")\n",
    "print(df.mean())\n",
    "\n",
    "print('\\nmedian:')\n",
    "print(df.median())\n",
    "\n",
    "print(\"\\nStd deviation:\")\n",
    "print(df.std())\n",
    "\n",
    "print(df.head(1))\n",
    "for col in df.columns:\n",
    "    print(df[col].dtypes)"
   ]
  }
 ],
 "metadata": {
  "kernelspec": {
   "display_name": "Python 3",
   "language": "python",
   "name": "python3"
  },
  "language_info": {
   "codemirror_mode": {
    "name": "ipython",
    "version": 3
   },
   "file_extension": ".py",
   "mimetype": "text/x-python",
   "name": "python",
   "nbconvert_exporter": "python",
   "pygments_lexer": "ipython3",
   "version": "3.6.3"
  }
 },
 "nbformat": 4,
 "nbformat_minor": 2
}
